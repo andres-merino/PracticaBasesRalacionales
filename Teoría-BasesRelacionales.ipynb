{
 "cells": [
  {
   "cell_type": "markdown",
   "metadata": {},
   "source": [
    "<a href=\"https://colab.research.google.com/github/andres-merino/PracticaBasesRalacionales/blob/main/Teoría-BasesRelacionales.ipynb\" target=\"_parent\"><img src=\"https://colab.research.google.com/assets/colab-badge.svg\" alt=\"Open In Colab\"/></a>"
   ]
  },
  {
   "cell_type": "markdown",
   "metadata": {},
   "source": [
    "<table style=\"border: none; border-collapse: collapse;\">\n",
    "    <tr>\n",
    "        <td style=\"width: 20%; vertical-align: middle; padding-right: 10px;\">\n",
    "            <img src=\"https://i.imgur.com/nt7hloA.png\" width=\"100\">\n",
    "        </td>\n",
    "        <td style=\"width: 2px; text-align: center;\">\n",
    "            <font color=\"#0030A1\" size=\"7\">|</font><br>\n",
    "            <font color=\"#0030A1\" size=\"7\">|</font>\n",
    "        </td>\n",
    "        <td>\n",
    "            <p style=\"font-variant: small-caps;\"><font color=\"#0030A1\" size=\"5\">\n",
    "                <b>Escuela de Ciencias Físicas y Matemática</b>\n",
    "            </font> </p>\n",
    "            <p style=\"font-variant: small-caps;\"><font color=\"#0030A1\" size=\"4\">\n",
    "                Bases de datos relacionales\n",
    "            </font></p>\n",
    "            <p style=\"font-style: oblique;\"><font color=\"#0030A1\" size=\"3\">\n",
    "                Andrés Merino &bull; 2024-02\n",
    "            </font></p>\n",
    "        </td>  \n",
    "    </tr>\n",
    "</table>"
   ]
  },
  {
   "cell_type": "markdown",
   "metadata": {
    "id": "Bxa9gBA7MvSU"
   },
   "source": [
    "---\n",
    "## <font color='264CC7'> Introducción </font>\n"
   ]
  },
  {
   "cell_type": "markdown",
   "metadata": {
    "id": "0oEuL2uJM6zS"
   },
   "source": [
    "Las tablas de datos son una forma común de almacenar información en bases de datos relacionales. En este cuaderno, aprenderemos a usar la biblioteca Pandas para trabajar con tablas de datos en Python. \n",
    "\n",
    "Matemáticamente, se puede ver una tabla de datos como un conjunto de tuplas, donde cada tupla es un vector de datos. En este sentido, una tabla de datos es un conjunto de vectores de datos que comparten el mismo dominio. Por ejemplo, la siguiente tabla de datos tiene 3 vectores de datos:\n",
    "\n",
    "| Nombre | Edad | Sexo |\n",
    "|--------|------|------|\n",
    "| Juan   | 25   | M    |\n",
    "| María  | 30   | F    |\n",
    "| Pedro  | 28   | M    |\n",
    "\n",
    "Desde un punto de vista matemático, esta tabla puede ser vista como un conjunto de 3 elementos, donde cada elemento es una terna ordenada:\n",
    "$$\n",
    "    \\{ (\\text{Juan}, 25, M), (\\text{María}, 30, F), (\\text{Pedro}, 28, M) \\}.\n",
    "$$\n",
    "Este es un subconjunto del *producto cartesiano* de los conjuntos de nombres, edades y sexos, es decir, es una relación ternaria.\n",
    "\n",
    "Así, de manera general, una tabla de datos ($R$) es una relación entre conjuntos de datos ($A_1,\\ldots,A_n$), es decir, $R\\subseteq A_1\\times\\ldots\\times A_n$. A cada columna de la tabla ($A_1,\\ldots,A_n$) se le llama *atributo*; y a cada fila (elemento de $R$) se le llama *registro* y a cada componente de un registro se lo llama *campo*."
   ]
  },
  {
   "cell_type": "markdown",
   "metadata": {},
   "source": [
    "Para trabajar con tablas de datos en Python, se puede utilizar la librería [`pandas`](https://pandas.pydata.org/); es usual importarla con el alias `pd`. Adicionalmente, usaremos la librería `numpy` para trabajar con arreglos (tuplas) de datos."
   ]
  },
  {
   "cell_type": "code",
   "execution_count": 1,
   "metadata": {},
   "outputs": [],
   "source": [
    "import pandas as pd\n",
    "import numpy as np"
   ]
  },
  {
   "cell_type": "markdown",
   "metadata": {},
   "source": [
    "Iniciaremos creando la tabla de datos anterior con Pandas, esto se lo puede realizar de varias formas. La primera forma, que es menos común, es mediante una arreglo datos de numpy, esta refleja la estructura matemática de una tabla de datos. Primero definimos el arreglo de datos y luego creamos la tabla de datos con Pandas, usando la función `pd.DataFrame`. Para una mejor visualización, usaremos la función `display` de la librería `IPython.display`."
   ]
  },
  {
   "cell_type": "code",
   "execution_count": 2,
   "metadata": {
    "colab": {
     "base_uri": "https://localhost:8080/",
     "height": 78
    },
    "id": "_RcPlATlM5zC",
    "outputId": "985fe20f-5f2a-4086-f8cb-fc636255a7d3"
   },
   "outputs": [
    {
     "name": "stdout",
     "output_type": "stream",
     "text": [
      "[['Juan' '25' 'M']\n",
      " ['Maria' '30' 'F']\n",
      " ['Pedro' '28' 'M']]\n"
     ]
    },
    {
     "data": {
      "text/html": [
       "<div>\n",
       "<style scoped>\n",
       "    .dataframe tbody tr th:only-of-type {\n",
       "        vertical-align: middle;\n",
       "    }\n",
       "\n",
       "    .dataframe tbody tr th {\n",
       "        vertical-align: top;\n",
       "    }\n",
       "\n",
       "    .dataframe thead th {\n",
       "        text-align: right;\n",
       "    }\n",
       "</style>\n",
       "<table border=\"1\" class=\"dataframe\">\n",
       "  <thead>\n",
       "    <tr style=\"text-align: right;\">\n",
       "      <th></th>\n",
       "      <th>Nombre</th>\n",
       "      <th>Edad</th>\n",
       "      <th>Sexo</th>\n",
       "    </tr>\n",
       "  </thead>\n",
       "  <tbody>\n",
       "    <tr>\n",
       "      <th>0</th>\n",
       "      <td>Juan</td>\n",
       "      <td>25</td>\n",
       "      <td>M</td>\n",
       "    </tr>\n",
       "    <tr>\n",
       "      <th>1</th>\n",
       "      <td>Maria</td>\n",
       "      <td>30</td>\n",
       "      <td>F</td>\n",
       "    </tr>\n",
       "    <tr>\n",
       "      <th>2</th>\n",
       "      <td>Pedro</td>\n",
       "      <td>28</td>\n",
       "      <td>M</td>\n",
       "    </tr>\n",
       "  </tbody>\n",
       "</table>\n",
       "</div>"
      ],
      "text/plain": [
       "  Nombre Edad Sexo\n",
       "0   Juan   25    M\n",
       "1  Maria   30    F\n",
       "2  Pedro   28    M"
      ]
     },
     "metadata": {},
     "output_type": "display_data"
    }
   ],
   "source": [
    "# Creación del arreglo de datos\n",
    "data = np.array( [('Juan', 25, 'M'), ('Maria', 30, 'F'), ('Pedro', 28, 'M')] )\n",
    "# Visualización del arreglo de datos\n",
    "print(data)\n",
    "\n",
    "# Generación del DataFrame\n",
    "df = pd.DataFrame(data, columns=['Nombre', 'Edad', 'Sexo'])\n",
    "# Visualización del DataFrame\n",
    "display(df)"
   ]
  },
  {
   "cell_type": "markdown",
   "metadata": {},
   "source": [
    "La segunda forma, que es más común, es mediante un diccionario de Python, donde las claves son los nombres de las columnas y los valores son listas de datos. "
   ]
  },
  {
   "cell_type": "code",
   "execution_count": 3,
   "metadata": {},
   "outputs": [
    {
     "data": {
      "text/html": [
       "<div>\n",
       "<style scoped>\n",
       "    .dataframe tbody tr th:only-of-type {\n",
       "        vertical-align: middle;\n",
       "    }\n",
       "\n",
       "    .dataframe tbody tr th {\n",
       "        vertical-align: top;\n",
       "    }\n",
       "\n",
       "    .dataframe thead th {\n",
       "        text-align: right;\n",
       "    }\n",
       "</style>\n",
       "<table border=\"1\" class=\"dataframe\">\n",
       "  <thead>\n",
       "    <tr style=\"text-align: right;\">\n",
       "      <th></th>\n",
       "      <th>Nombre</th>\n",
       "      <th>Edad</th>\n",
       "      <th>Sexo</th>\n",
       "    </tr>\n",
       "  </thead>\n",
       "  <tbody>\n",
       "    <tr>\n",
       "      <th>0</th>\n",
       "      <td>Juan</td>\n",
       "      <td>25</td>\n",
       "      <td>M</td>\n",
       "    </tr>\n",
       "    <tr>\n",
       "      <th>1</th>\n",
       "      <td>Maria</td>\n",
       "      <td>30</td>\n",
       "      <td>F</td>\n",
       "    </tr>\n",
       "    <tr>\n",
       "      <th>2</th>\n",
       "      <td>Pedro</td>\n",
       "      <td>28</td>\n",
       "      <td>M</td>\n",
       "    </tr>\n",
       "  </tbody>\n",
       "</table>\n",
       "</div>"
      ],
      "text/plain": [
       "  Nombre  Edad Sexo\n",
       "0   Juan    25    M\n",
       "1  Maria    30    F\n",
       "2  Pedro    28    M"
      ]
     },
     "metadata": {},
     "output_type": "display_data"
    }
   ],
   "source": [
    "# Generación de un DataFrame a partir de un diccionario\n",
    "df = pd.DataFrame({'Nombre': ['Juan', 'Maria', 'Pedro'], 'Edad': [25, 30, 28], 'Sexo': ['M', 'F', 'M']})\n",
    "# Visualización del DataFrame\n",
    "display(df)"
   ]
  },
  {
   "cell_type": "markdown",
   "metadata": {},
   "source": [
    "Adicionalmente, existen funciones para crear tablas de datos a partir de archivos de texto, como `pd.read_csv` para archivos CSV, `pd.read_excel` para archivos Excel, entre otros."
   ]
  },
  {
   "cell_type": "markdown",
   "metadata": {},
   "source": [
    "---\n",
    "## <font color='264CC7'> Operaciones básicas con tablas de datos </font>"
   ]
  },
  {
   "cell_type": "markdown",
   "metadata": {},
   "source": [
    "Las principales operaciones que se pueden realizar con tablas de datos son:\n",
    "- Selección (SELECT)\n",
    "- Proyección (PROJECT)\n",
    "- Reunión (JOIN)\n",
    "\n",
    "Para presentar la definición de estas operaciones, usaremos la siguiente tabla de datos:\n",
    "\n",
    "**Tabla de datos $R$**\n",
    "| Id_alumno | Nombre | Edad | Sexo |\n",
    "|----|--------|------|------|\n",
    "| 1  | Juan   | 25   | M    |\n",
    "| 2  | María  | 30   | F    |\n",
    "| 3  | Pedro  | 28   | M    |\n",
    "| 4  | Ana    | 22   | F    |\n",
    "\n",
    "**Tabla de datos $S$**\n",
    "| Id_alumno | Asignatura | Calificación |\n",
    "|----|------------|--|\n",
    "| 1  | Matemática | 8|\n",
    "| 2  | Matemática | 9|\n",
    "| 1  | Física     | 7|\n",
    "| 3  | Física     | 5|\n",
    "| 5  | Física     | 6|\n"
   ]
  },
  {
   "cell_type": "code",
   "execution_count": 4,
   "metadata": {},
   "outputs": [
    {
     "name": "stdout",
     "output_type": "stream",
     "text": [
      "Tabla de datos R\n"
     ]
    },
    {
     "data": {
      "text/html": [
       "<div>\n",
       "<style scoped>\n",
       "    .dataframe tbody tr th:only-of-type {\n",
       "        vertical-align: middle;\n",
       "    }\n",
       "\n",
       "    .dataframe tbody tr th {\n",
       "        vertical-align: top;\n",
       "    }\n",
       "\n",
       "    .dataframe thead th {\n",
       "        text-align: right;\n",
       "    }\n",
       "</style>\n",
       "<table border=\"1\" class=\"dataframe\">\n",
       "  <thead>\n",
       "    <tr style=\"text-align: right;\">\n",
       "      <th></th>\n",
       "      <th>Id_alumno</th>\n",
       "      <th>Nombre</th>\n",
       "      <th>Edad</th>\n",
       "      <th>Sexo</th>\n",
       "    </tr>\n",
       "  </thead>\n",
       "  <tbody>\n",
       "    <tr>\n",
       "      <th>0</th>\n",
       "      <td>1</td>\n",
       "      <td>Juan</td>\n",
       "      <td>25</td>\n",
       "      <td>M</td>\n",
       "    </tr>\n",
       "    <tr>\n",
       "      <th>1</th>\n",
       "      <td>2</td>\n",
       "      <td>Maria</td>\n",
       "      <td>30</td>\n",
       "      <td>F</td>\n",
       "    </tr>\n",
       "    <tr>\n",
       "      <th>2</th>\n",
       "      <td>3</td>\n",
       "      <td>Pedro</td>\n",
       "      <td>28</td>\n",
       "      <td>M</td>\n",
       "    </tr>\n",
       "    <tr>\n",
       "      <th>3</th>\n",
       "      <td>4</td>\n",
       "      <td>Ana</td>\n",
       "      <td>22</td>\n",
       "      <td>F</td>\n",
       "    </tr>\n",
       "  </tbody>\n",
       "</table>\n",
       "</div>"
      ],
      "text/plain": [
       "   Id_alumno Nombre  Edad Sexo\n",
       "0          1   Juan    25    M\n",
       "1          2  Maria    30    F\n",
       "2          3  Pedro    28    M\n",
       "3          4    Ana    22    F"
      ]
     },
     "metadata": {},
     "output_type": "display_data"
    },
    {
     "name": "stdout",
     "output_type": "stream",
     "text": [
      "Tabla de datos S\n"
     ]
    },
    {
     "data": {
      "text/html": [
       "<div>\n",
       "<style scoped>\n",
       "    .dataframe tbody tr th:only-of-type {\n",
       "        vertical-align: middle;\n",
       "    }\n",
       "\n",
       "    .dataframe tbody tr th {\n",
       "        vertical-align: top;\n",
       "    }\n",
       "\n",
       "    .dataframe thead th {\n",
       "        text-align: right;\n",
       "    }\n",
       "</style>\n",
       "<table border=\"1\" class=\"dataframe\">\n",
       "  <thead>\n",
       "    <tr style=\"text-align: right;\">\n",
       "      <th></th>\n",
       "      <th>Id_alumno</th>\n",
       "      <th>Asignatura</th>\n",
       "      <th>Calificación</th>\n",
       "    </tr>\n",
       "  </thead>\n",
       "  <tbody>\n",
       "    <tr>\n",
       "      <th>0</th>\n",
       "      <td>1</td>\n",
       "      <td>Matemáticas</td>\n",
       "      <td>8</td>\n",
       "    </tr>\n",
       "    <tr>\n",
       "      <th>1</th>\n",
       "      <td>2</td>\n",
       "      <td>Matemáticas</td>\n",
       "      <td>9</td>\n",
       "    </tr>\n",
       "    <tr>\n",
       "      <th>2</th>\n",
       "      <td>1</td>\n",
       "      <td>Física</td>\n",
       "      <td>7</td>\n",
       "    </tr>\n",
       "    <tr>\n",
       "      <th>3</th>\n",
       "      <td>3</td>\n",
       "      <td>Física</td>\n",
       "      <td>5</td>\n",
       "    </tr>\n",
       "    <tr>\n",
       "      <th>4</th>\n",
       "      <td>5</td>\n",
       "      <td>Matemática</td>\n",
       "      <td>6</td>\n",
       "    </tr>\n",
       "  </tbody>\n",
       "</table>\n",
       "</div>"
      ],
      "text/plain": [
       "   Id_alumno   Asignatura  Calificación\n",
       "0          1  Matemáticas             8\n",
       "1          2  Matemáticas             9\n",
       "2          1       Física             7\n",
       "3          3       Física             5\n",
       "4          5   Matemática             6"
      ]
     },
     "metadata": {},
     "output_type": "display_data"
    }
   ],
   "source": [
    "# Definimos el primer DataFrame R\n",
    "dfR = pd.DataFrame({\"Id_alumno\": [1, 2, 3, 4], \"Nombre\": [\"Juan\", \"Maria\", \"Pedro\", \"Ana\"], \"Edad\": [25, 30, 28, 22], \"Sexo\": [\"M\", \"F\", \"M\", \"F\"]})\n",
    "# Definimos el segundo DataFrame S\n",
    "dfS = pd.DataFrame({'Id_alumno': [1, 2, 1, 3, 5], 'Asignatura': ['Matemáticas', 'Matemáticas', 'Física', 'Física', 'Matemática'], 'Calificación': [8, 9, 7, 5, 6]})\n",
    "\n",
    "# Visualización del primer DataFrame\n",
    "print('Tabla de datos R')\n",
    "display(dfR)\n",
    "# Visualización del segundo DataFrame\n",
    "print('Tabla de datos S')\n",
    "display(dfS)"
   ]
  },
  {
   "cell_type": "markdown",
   "metadata": {},
   "source": [
    "### <font color='264CC7'> Selección (SELECT) </font>\n"
   ]
  },
  {
   "cell_type": "markdown",
   "metadata": {},
   "source": [
    "El operador selección toma los registros (filas) de una tabla de datos que satisfacen una condición dada. De manera general, si $R$ es una relación (tabla de datos) y $p$ es una condición, entonces la selección de $R$ con respecto a $p$ es:\n",
    "$$\n",
    "    \\{ (x_1, x_2,\\ldots,x_n)\\in R : p(x_1, x_2,\\ldots,x_n) \\}.\n",
    "$$\n",
    "Por ejemplo, de la tabla de datos $R$, queremos seleccionar los registros mayores de 25 años. El resultado sería:\n",
    "$$\n",
    "    \\{ (x_1, x_2,x_3,x_4)\\in R : x_3>25 \\},\n",
    "$$\n",
    "es decir,\n",
    "| Id_alumno | Nombre | Edad | Sexo |\n",
    "|----|--------|------|------|\n",
    "| 2  | María  | 30   | F    |\n",
    "| 3  | Pedro  | 28   | M    |\n",
    "\n",
    "Existen varias formas de realizar esto con Pandas, una de ellas es mediante el método `query` de un DataFrame. Este método toma una cadena de texto que representa la condición. Por ejemplo, para seleccionar los registros mayores de 25 años, se puede usar el siguiente código:"
   ]
  },
  {
   "cell_type": "code",
   "execution_count": 5,
   "metadata": {},
   "outputs": [
    {
     "data": {
      "text/html": [
       "<div>\n",
       "<style scoped>\n",
       "    .dataframe tbody tr th:only-of-type {\n",
       "        vertical-align: middle;\n",
       "    }\n",
       "\n",
       "    .dataframe tbody tr th {\n",
       "        vertical-align: top;\n",
       "    }\n",
       "\n",
       "    .dataframe thead th {\n",
       "        text-align: right;\n",
       "    }\n",
       "</style>\n",
       "<table border=\"1\" class=\"dataframe\">\n",
       "  <thead>\n",
       "    <tr style=\"text-align: right;\">\n",
       "      <th></th>\n",
       "      <th>Id_alumno</th>\n",
       "      <th>Nombre</th>\n",
       "      <th>Edad</th>\n",
       "      <th>Sexo</th>\n",
       "    </tr>\n",
       "  </thead>\n",
       "  <tbody>\n",
       "    <tr>\n",
       "      <th>1</th>\n",
       "      <td>2</td>\n",
       "      <td>Maria</td>\n",
       "      <td>30</td>\n",
       "      <td>F</td>\n",
       "    </tr>\n",
       "    <tr>\n",
       "      <th>2</th>\n",
       "      <td>3</td>\n",
       "      <td>Pedro</td>\n",
       "      <td>28</td>\n",
       "      <td>M</td>\n",
       "    </tr>\n",
       "  </tbody>\n",
       "</table>\n",
       "</div>"
      ],
      "text/plain": [
       "   Id_alumno Nombre  Edad Sexo\n",
       "1          2  Maria    30    F\n",
       "2          3  Pedro    28    M"
      ]
     },
     "execution_count": 5,
     "metadata": {},
     "output_type": "execute_result"
    }
   ],
   "source": [
    "dfR.query('Edad > 25')"
   ]
  },
  {
   "cell_type": "markdown",
   "metadata": {},
   "source": [
    "Otra opción es mediante el método `loc`, que toma una condición booleana:"
   ]
  },
  {
   "cell_type": "code",
   "execution_count": 6,
   "metadata": {},
   "outputs": [
    {
     "data": {
      "text/html": [
       "<div>\n",
       "<style scoped>\n",
       "    .dataframe tbody tr th:only-of-type {\n",
       "        vertical-align: middle;\n",
       "    }\n",
       "\n",
       "    .dataframe tbody tr th {\n",
       "        vertical-align: top;\n",
       "    }\n",
       "\n",
       "    .dataframe thead th {\n",
       "        text-align: right;\n",
       "    }\n",
       "</style>\n",
       "<table border=\"1\" class=\"dataframe\">\n",
       "  <thead>\n",
       "    <tr style=\"text-align: right;\">\n",
       "      <th></th>\n",
       "      <th>Id_alumno</th>\n",
       "      <th>Nombre</th>\n",
       "      <th>Edad</th>\n",
       "      <th>Sexo</th>\n",
       "    </tr>\n",
       "  </thead>\n",
       "  <tbody>\n",
       "    <tr>\n",
       "      <th>1</th>\n",
       "      <td>2</td>\n",
       "      <td>Maria</td>\n",
       "      <td>30</td>\n",
       "      <td>F</td>\n",
       "    </tr>\n",
       "    <tr>\n",
       "      <th>2</th>\n",
       "      <td>3</td>\n",
       "      <td>Pedro</td>\n",
       "      <td>28</td>\n",
       "      <td>M</td>\n",
       "    </tr>\n",
       "  </tbody>\n",
       "</table>\n",
       "</div>"
      ],
      "text/plain": [
       "   Id_alumno Nombre  Edad Sexo\n",
       "1          2  Maria    30    F\n",
       "2          3  Pedro    28    M"
      ]
     },
     "execution_count": 6,
     "metadata": {},
     "output_type": "execute_result"
    }
   ],
   "source": [
    "dfR.loc[dfR['Edad'] > 25]"
   ]
  },
  {
   "cell_type": "markdown",
   "metadata": {},
   "source": [
    "Una tercera opción es seleccionando directamente los registro (esta opción suele ser más eficiente en tablas de datos grandes):"
   ]
  },
  {
   "cell_type": "code",
   "execution_count": 7,
   "metadata": {},
   "outputs": [
    {
     "data": {
      "text/html": [
       "<div>\n",
       "<style scoped>\n",
       "    .dataframe tbody tr th:only-of-type {\n",
       "        vertical-align: middle;\n",
       "    }\n",
       "\n",
       "    .dataframe tbody tr th {\n",
       "        vertical-align: top;\n",
       "    }\n",
       "\n",
       "    .dataframe thead th {\n",
       "        text-align: right;\n",
       "    }\n",
       "</style>\n",
       "<table border=\"1\" class=\"dataframe\">\n",
       "  <thead>\n",
       "    <tr style=\"text-align: right;\">\n",
       "      <th></th>\n",
       "      <th>Id_alumno</th>\n",
       "      <th>Nombre</th>\n",
       "      <th>Edad</th>\n",
       "      <th>Sexo</th>\n",
       "    </tr>\n",
       "  </thead>\n",
       "  <tbody>\n",
       "    <tr>\n",
       "      <th>1</th>\n",
       "      <td>2</td>\n",
       "      <td>Maria</td>\n",
       "      <td>30</td>\n",
       "      <td>F</td>\n",
       "    </tr>\n",
       "    <tr>\n",
       "      <th>2</th>\n",
       "      <td>3</td>\n",
       "      <td>Pedro</td>\n",
       "      <td>28</td>\n",
       "      <td>M</td>\n",
       "    </tr>\n",
       "  </tbody>\n",
       "</table>\n",
       "</div>"
      ],
      "text/plain": [
       "   Id_alumno Nombre  Edad Sexo\n",
       "1          2  Maria    30    F\n",
       "2          3  Pedro    28    M"
      ]
     },
     "execution_count": 7,
     "metadata": {},
     "output_type": "execute_result"
    }
   ],
   "source": [
    "dfR[dfR['Edad'] > 25]"
   ]
  },
  {
   "cell_type": "markdown",
   "metadata": {},
   "source": [
    "Se pueden combinar condiciones con operadores lógicos, como `&` para el operador `AND` y `|` para el operador `OR`. Por ejemplo, para seleccionar los registros mayores de 25 años y de sexo masculino, se pueden usar los siguientes códigos:"
   ]
  },
  {
   "cell_type": "code",
   "execution_count": 8,
   "metadata": {},
   "outputs": [
    {
     "data": {
      "text/html": [
       "<div>\n",
       "<style scoped>\n",
       "    .dataframe tbody tr th:only-of-type {\n",
       "        vertical-align: middle;\n",
       "    }\n",
       "\n",
       "    .dataframe tbody tr th {\n",
       "        vertical-align: top;\n",
       "    }\n",
       "\n",
       "    .dataframe thead th {\n",
       "        text-align: right;\n",
       "    }\n",
       "</style>\n",
       "<table border=\"1\" class=\"dataframe\">\n",
       "  <thead>\n",
       "    <tr style=\"text-align: right;\">\n",
       "      <th></th>\n",
       "      <th>Id_alumno</th>\n",
       "      <th>Nombre</th>\n",
       "      <th>Edad</th>\n",
       "      <th>Sexo</th>\n",
       "    </tr>\n",
       "  </thead>\n",
       "  <tbody>\n",
       "    <tr>\n",
       "      <th>2</th>\n",
       "      <td>3</td>\n",
       "      <td>Pedro</td>\n",
       "      <td>28</td>\n",
       "      <td>M</td>\n",
       "    </tr>\n",
       "  </tbody>\n",
       "</table>\n",
       "</div>"
      ],
      "text/plain": [
       "   Id_alumno Nombre  Edad Sexo\n",
       "2          3  Pedro    28    M"
      ]
     },
     "execution_count": 8,
     "metadata": {},
     "output_type": "execute_result"
    }
   ],
   "source": [
    "dfR.query('Edad > 25 & Sexo == \"M\"')"
   ]
  },
  {
   "cell_type": "code",
   "execution_count": 9,
   "metadata": {},
   "outputs": [
    {
     "data": {
      "text/html": [
       "<div>\n",
       "<style scoped>\n",
       "    .dataframe tbody tr th:only-of-type {\n",
       "        vertical-align: middle;\n",
       "    }\n",
       "\n",
       "    .dataframe tbody tr th {\n",
       "        vertical-align: top;\n",
       "    }\n",
       "\n",
       "    .dataframe thead th {\n",
       "        text-align: right;\n",
       "    }\n",
       "</style>\n",
       "<table border=\"1\" class=\"dataframe\">\n",
       "  <thead>\n",
       "    <tr style=\"text-align: right;\">\n",
       "      <th></th>\n",
       "      <th>Id_alumno</th>\n",
       "      <th>Nombre</th>\n",
       "      <th>Edad</th>\n",
       "      <th>Sexo</th>\n",
       "    </tr>\n",
       "  </thead>\n",
       "  <tbody>\n",
       "    <tr>\n",
       "      <th>2</th>\n",
       "      <td>3</td>\n",
       "      <td>Pedro</td>\n",
       "      <td>28</td>\n",
       "      <td>M</td>\n",
       "    </tr>\n",
       "  </tbody>\n",
       "</table>\n",
       "</div>"
      ],
      "text/plain": [
       "   Id_alumno Nombre  Edad Sexo\n",
       "2          3  Pedro    28    M"
      ]
     },
     "execution_count": 9,
     "metadata": {},
     "output_type": "execute_result"
    }
   ],
   "source": [
    "dfR.loc[(dfR['Edad']>25) & (dfR['Sexo']=='M')]"
   ]
  },
  {
   "cell_type": "code",
   "execution_count": 10,
   "metadata": {},
   "outputs": [
    {
     "data": {
      "text/html": [
       "<div>\n",
       "<style scoped>\n",
       "    .dataframe tbody tr th:only-of-type {\n",
       "        vertical-align: middle;\n",
       "    }\n",
       "\n",
       "    .dataframe tbody tr th {\n",
       "        vertical-align: top;\n",
       "    }\n",
       "\n",
       "    .dataframe thead th {\n",
       "        text-align: right;\n",
       "    }\n",
       "</style>\n",
       "<table border=\"1\" class=\"dataframe\">\n",
       "  <thead>\n",
       "    <tr style=\"text-align: right;\">\n",
       "      <th></th>\n",
       "      <th>Id_alumno</th>\n",
       "      <th>Nombre</th>\n",
       "      <th>Edad</th>\n",
       "      <th>Sexo</th>\n",
       "    </tr>\n",
       "  </thead>\n",
       "  <tbody>\n",
       "    <tr>\n",
       "      <th>2</th>\n",
       "      <td>3</td>\n",
       "      <td>Pedro</td>\n",
       "      <td>28</td>\n",
       "      <td>M</td>\n",
       "    </tr>\n",
       "  </tbody>\n",
       "</table>\n",
       "</div>"
      ],
      "text/plain": [
       "   Id_alumno Nombre  Edad Sexo\n",
       "2          3  Pedro    28    M"
      ]
     },
     "execution_count": 10,
     "metadata": {},
     "output_type": "execute_result"
    }
   ],
   "source": [
    "dfR[(dfR['Edad']>25) & (dfR['Sexo']=='M')]"
   ]
  },
  {
   "cell_type": "markdown",
   "metadata": {},
   "source": [
    "En lenguaje [SQL](https://es.wikipedia.org/wiki/SQL), el operador selección se representa con la cláusula `WHERE`. Por ejemplo, la selección de los registros mayores de 25 años se puede escribir como:\n",
    "```sql\n",
    "SELECT * \n",
    "FROM R \n",
    "WHERE Edad>25;\n",
    "```"
   ]
  },
  {
   "cell_type": "markdown",
   "metadata": {},
   "source": [
    "### <font color='264CC7'>  Proyección (PROJECT) </font>"
   ]
  },
  {
   "cell_type": "markdown",
   "metadata": {},
   "source": [
    "El operador proyección toma los atributos (columnas) de una tabla de datos que se desean. De manera general, si $R$ es una relación (tabla de datos) y $A$ es un subconjunto de los atributos de $R$, entonces la proyección de $R$ con respecto a $A$ es:\n",
    "$$\n",
    "    \\{ (x_\\alpha, x_\\beta,\\ldots)\\in R : (x_1,\\ldots,x_\\alpha,\\ldots, x_\\beta,\\ldots) \\in R\\},\n",
    "$$\n",
    "donde $x_\\alpha, x_\\beta,\\ldots$ son atributos pertenecientes a $A$. \n",
    "\n",
    "Por ejemplo, de la tabla de datos $R$, queremos seleccionar los atributos `Nombre` y `Edad` (que son los atributos 2 y 3). El resultado sería:\n",
    "$$\n",
    "    \\{ (x_2, x_3)\\in R : (x_1, x_2, x_3, x_4) \\in R\\},\n",
    "$$\n",
    "es decir,\n",
    "| Nombre | Edad |\n",
    "|--------|------|\n",
    "| Juan   | 25   |\n",
    "| María  | 30   |\n",
    "| Pedro  | 28   |\n",
    "| Ana    | 22   |\n",
    "\n",
    "En esta caso, también existen varias formas de realizar esto con Pandas, una de ellas es seleccionando directamente la lista de columnas. Por ejemplo, para seleccionar los atributos `Nombre` y `Edad`, se puede usar el siguiente código:"
   ]
  },
  {
   "cell_type": "code",
   "execution_count": 11,
   "metadata": {},
   "outputs": [
    {
     "data": {
      "text/html": [
       "<div>\n",
       "<style scoped>\n",
       "    .dataframe tbody tr th:only-of-type {\n",
       "        vertical-align: middle;\n",
       "    }\n",
       "\n",
       "    .dataframe tbody tr th {\n",
       "        vertical-align: top;\n",
       "    }\n",
       "\n",
       "    .dataframe thead th {\n",
       "        text-align: right;\n",
       "    }\n",
       "</style>\n",
       "<table border=\"1\" class=\"dataframe\">\n",
       "  <thead>\n",
       "    <tr style=\"text-align: right;\">\n",
       "      <th></th>\n",
       "      <th>Nombre</th>\n",
       "      <th>Edad</th>\n",
       "    </tr>\n",
       "  </thead>\n",
       "  <tbody>\n",
       "    <tr>\n",
       "      <th>0</th>\n",
       "      <td>Juan</td>\n",
       "      <td>25</td>\n",
       "    </tr>\n",
       "    <tr>\n",
       "      <th>1</th>\n",
       "      <td>Maria</td>\n",
       "      <td>30</td>\n",
       "    </tr>\n",
       "    <tr>\n",
       "      <th>2</th>\n",
       "      <td>Pedro</td>\n",
       "      <td>28</td>\n",
       "    </tr>\n",
       "    <tr>\n",
       "      <th>3</th>\n",
       "      <td>Ana</td>\n",
       "      <td>22</td>\n",
       "    </tr>\n",
       "  </tbody>\n",
       "</table>\n",
       "</div>"
      ],
      "text/plain": [
       "  Nombre  Edad\n",
       "0   Juan    25\n",
       "1  Maria    30\n",
       "2  Pedro    28\n",
       "3    Ana    22"
      ]
     },
     "execution_count": 11,
     "metadata": {},
     "output_type": "execute_result"
    }
   ],
   "source": [
    "dfR[['Nombre', 'Edad']]"
   ]
  },
  {
   "cell_type": "markdown",
   "metadata": {},
   "source": [
    "También se puede usar el método `loc` para seleccionar los atributos:"
   ]
  },
  {
   "cell_type": "code",
   "execution_count": 12,
   "metadata": {},
   "outputs": [
    {
     "data": {
      "text/html": [
       "<div>\n",
       "<style scoped>\n",
       "    .dataframe tbody tr th:only-of-type {\n",
       "        vertical-align: middle;\n",
       "    }\n",
       "\n",
       "    .dataframe tbody tr th {\n",
       "        vertical-align: top;\n",
       "    }\n",
       "\n",
       "    .dataframe thead th {\n",
       "        text-align: right;\n",
       "    }\n",
       "</style>\n",
       "<table border=\"1\" class=\"dataframe\">\n",
       "  <thead>\n",
       "    <tr style=\"text-align: right;\">\n",
       "      <th></th>\n",
       "      <th>Nombre</th>\n",
       "      <th>Edad</th>\n",
       "    </tr>\n",
       "  </thead>\n",
       "  <tbody>\n",
       "    <tr>\n",
       "      <th>0</th>\n",
       "      <td>Juan</td>\n",
       "      <td>25</td>\n",
       "    </tr>\n",
       "    <tr>\n",
       "      <th>1</th>\n",
       "      <td>Maria</td>\n",
       "      <td>30</td>\n",
       "    </tr>\n",
       "    <tr>\n",
       "      <th>2</th>\n",
       "      <td>Pedro</td>\n",
       "      <td>28</td>\n",
       "    </tr>\n",
       "    <tr>\n",
       "      <th>3</th>\n",
       "      <td>Ana</td>\n",
       "      <td>22</td>\n",
       "    </tr>\n",
       "  </tbody>\n",
       "</table>\n",
       "</div>"
      ],
      "text/plain": [
       "  Nombre  Edad\n",
       "0   Juan    25\n",
       "1  Maria    30\n",
       "2  Pedro    28\n",
       "3    Ana    22"
      ]
     },
     "execution_count": 12,
     "metadata": {},
     "output_type": "execute_result"
    }
   ],
   "source": [
    "dfR.loc[:, ['Nombre', 'Edad']]"
   ]
  },
  {
   "cell_type": "markdown",
   "metadata": {},
   "source": [
    "Con esta última opción, se pueden combinar las operaciones de selección y proyección en una sola línea de código. Por ejemplo, para seleccionar los registros mayores de 25 años y de sexo masculino, y proyectar los atributos `Nombre` y `Edad`, se puede usar el siguiente código:"
   ]
  },
  {
   "cell_type": "code",
   "execution_count": 13,
   "metadata": {},
   "outputs": [
    {
     "data": {
      "text/html": [
       "<div>\n",
       "<style scoped>\n",
       "    .dataframe tbody tr th:only-of-type {\n",
       "        vertical-align: middle;\n",
       "    }\n",
       "\n",
       "    .dataframe tbody tr th {\n",
       "        vertical-align: top;\n",
       "    }\n",
       "\n",
       "    .dataframe thead th {\n",
       "        text-align: right;\n",
       "    }\n",
       "</style>\n",
       "<table border=\"1\" class=\"dataframe\">\n",
       "  <thead>\n",
       "    <tr style=\"text-align: right;\">\n",
       "      <th></th>\n",
       "      <th>Nombre</th>\n",
       "      <th>Edad</th>\n",
       "    </tr>\n",
       "  </thead>\n",
       "  <tbody>\n",
       "    <tr>\n",
       "      <th>1</th>\n",
       "      <td>Maria</td>\n",
       "      <td>30</td>\n",
       "    </tr>\n",
       "    <tr>\n",
       "      <th>2</th>\n",
       "      <td>Pedro</td>\n",
       "      <td>28</td>\n",
       "    </tr>\n",
       "  </tbody>\n",
       "</table>\n",
       "</div>"
      ],
      "text/plain": [
       "  Nombre  Edad\n",
       "1  Maria    30\n",
       "2  Pedro    28"
      ]
     },
     "execution_count": 13,
     "metadata": {},
     "output_type": "execute_result"
    }
   ],
   "source": [
    "dfR.loc[dfR['Edad']>25, ['Nombre', 'Edad']]"
   ]
  },
  {
   "cell_type": "markdown",
   "metadata": {},
   "source": [
    "En el lenguaje [SQL](https://es.wikipedia.org/wiki/SQL), el operador proyección se representa con la cláusula `SELECT`. Por ejemplo, la proyección de los atributos `Nombre` y `Edad` se puede escribir como:\n",
    "```sql\n",
    "SELECT Nombre, Edad\n",
    "FROM R;\n",
    "```"
   ]
  },
  {
   "cell_type": "markdown",
   "metadata": {},
   "source": [
    "### <font color='264CC7'> Reunión (JOIN) </font>"
   ]
  },
  {
   "cell_type": "markdown",
   "metadata": {},
   "source": [
    "El operador reunión toma los registros de dos tablas de datos que tienen un valor común en un atributo. De manera general, si $R$ y $S$ son dos relaciones (tablas de datos) y $A$ es un atributo común a ambas, entonces la reunión de $R$ y $S$ con respecto a $A$ es:\n",
    "$$\n",
    "    \\{ (x_1, x_2,\\ldots,x_n, y_1, y_2,\\ldots,y_m)\\in R\\times S : x_i=y_j \\text{ para algún } i,j\\}.\n",
    "$$\n",
    "Por ejemplo, de las tablas de datos $R$ y $S$, queremos reunir los registros que tienen el mismo `Id_alumno`. El resultado sería:\n",
    "$$\n",
    "    \\{ (x_1, x_2,x_3,x_4, y_1, y_2, y_3)\\in R\\times S : x_1=y_1\\},\n",
    "$$\n",
    "es decir,\n",
    "| Id_alumno | Nombre | Edad | Sexo | Id_alumno | Asignatura | Calificación |\n",
    "|----|--------|------|------|----|------------|--|\n",
    "| 1  | Juan   | 25   | M    | 1  | Matemática | 8|\n",
    "| 1  | Juan   | 25   | M    | 1  | Física     | 7|\n",
    "| 2  | María  | 30   | F    | 2  | Matemática | 9|\n",
    "| 3  | Pedro  | 28   | M    | 3  | Física     | 5|\n",
    "\n",
    "En Pandas, la reunión de dos tablas de datos se puede realizar con la función `merge`. Esta función toma dos DataFrames y el nombre del atributo común. Por ejemplo, para reunir las tablas de datos $R$ y $S$ con respecto al atributo `Id_alumno`, se puede usar el siguiente código:"
   ]
  },
  {
   "cell_type": "code",
   "execution_count": 14,
   "metadata": {},
   "outputs": [
    {
     "data": {
      "text/html": [
       "<div>\n",
       "<style scoped>\n",
       "    .dataframe tbody tr th:only-of-type {\n",
       "        vertical-align: middle;\n",
       "    }\n",
       "\n",
       "    .dataframe tbody tr th {\n",
       "        vertical-align: top;\n",
       "    }\n",
       "\n",
       "    .dataframe thead th {\n",
       "        text-align: right;\n",
       "    }\n",
       "</style>\n",
       "<table border=\"1\" class=\"dataframe\">\n",
       "  <thead>\n",
       "    <tr style=\"text-align: right;\">\n",
       "      <th></th>\n",
       "      <th>Id_alumno</th>\n",
       "      <th>Nombre</th>\n",
       "      <th>Edad</th>\n",
       "      <th>Sexo</th>\n",
       "      <th>Asignatura</th>\n",
       "      <th>Calificación</th>\n",
       "    </tr>\n",
       "  </thead>\n",
       "  <tbody>\n",
       "    <tr>\n",
       "      <th>0</th>\n",
       "      <td>1</td>\n",
       "      <td>Juan</td>\n",
       "      <td>25</td>\n",
       "      <td>M</td>\n",
       "      <td>Matemáticas</td>\n",
       "      <td>8</td>\n",
       "    </tr>\n",
       "    <tr>\n",
       "      <th>1</th>\n",
       "      <td>1</td>\n",
       "      <td>Juan</td>\n",
       "      <td>25</td>\n",
       "      <td>M</td>\n",
       "      <td>Física</td>\n",
       "      <td>7</td>\n",
       "    </tr>\n",
       "    <tr>\n",
       "      <th>2</th>\n",
       "      <td>2</td>\n",
       "      <td>Maria</td>\n",
       "      <td>30</td>\n",
       "      <td>F</td>\n",
       "      <td>Matemáticas</td>\n",
       "      <td>9</td>\n",
       "    </tr>\n",
       "    <tr>\n",
       "      <th>3</th>\n",
       "      <td>3</td>\n",
       "      <td>Pedro</td>\n",
       "      <td>28</td>\n",
       "      <td>M</td>\n",
       "      <td>Física</td>\n",
       "      <td>5</td>\n",
       "    </tr>\n",
       "  </tbody>\n",
       "</table>\n",
       "</div>"
      ],
      "text/plain": [
       "   Id_alumno Nombre  Edad Sexo   Asignatura  Calificación\n",
       "0          1   Juan    25    M  Matemáticas             8\n",
       "1          1   Juan    25    M       Física             7\n",
       "2          2  Maria    30    F  Matemáticas             9\n",
       "3          3  Pedro    28    M       Física             5"
      ]
     },
     "execution_count": 14,
     "metadata": {},
     "output_type": "execute_result"
    }
   ],
   "source": [
    "pd.merge(dfR, dfS, on='Id_alumno')"
   ]
  },
  {
   "cell_type": "markdown",
   "metadata": {},
   "source": [
    "Otra opción es mediante el método `join`, para esto, es necesario que el atributo común sea el índice de los DataFrames. Esto último se puede lograr con el método `set_index`. Por ejemplo, para reunir las tablas de datos $R$ y $S$ con respecto al atributo `Id_alumno`, se puede usar el siguiente código:"
   ]
  },
  {
   "cell_type": "code",
   "execution_count": 15,
   "metadata": {},
   "outputs": [
    {
     "data": {
      "text/html": [
       "<div>\n",
       "<style scoped>\n",
       "    .dataframe tbody tr th:only-of-type {\n",
       "        vertical-align: middle;\n",
       "    }\n",
       "\n",
       "    .dataframe tbody tr th {\n",
       "        vertical-align: top;\n",
       "    }\n",
       "\n",
       "    .dataframe thead th {\n",
       "        text-align: right;\n",
       "    }\n",
       "</style>\n",
       "<table border=\"1\" class=\"dataframe\">\n",
       "  <thead>\n",
       "    <tr style=\"text-align: right;\">\n",
       "      <th></th>\n",
       "      <th>Id_alumno</th>\n",
       "      <th>Nombre</th>\n",
       "      <th>Edad</th>\n",
       "      <th>Sexo</th>\n",
       "      <th>Asignatura</th>\n",
       "      <th>Calificación</th>\n",
       "    </tr>\n",
       "  </thead>\n",
       "  <tbody>\n",
       "    <tr>\n",
       "      <th>0</th>\n",
       "      <td>1</td>\n",
       "      <td>Juan</td>\n",
       "      <td>25</td>\n",
       "      <td>M</td>\n",
       "      <td>Matemáticas</td>\n",
       "      <td>8</td>\n",
       "    </tr>\n",
       "    <tr>\n",
       "      <th>0</th>\n",
       "      <td>1</td>\n",
       "      <td>Juan</td>\n",
       "      <td>25</td>\n",
       "      <td>M</td>\n",
       "      <td>Física</td>\n",
       "      <td>7</td>\n",
       "    </tr>\n",
       "    <tr>\n",
       "      <th>1</th>\n",
       "      <td>2</td>\n",
       "      <td>Maria</td>\n",
       "      <td>30</td>\n",
       "      <td>F</td>\n",
       "      <td>Matemáticas</td>\n",
       "      <td>9</td>\n",
       "    </tr>\n",
       "    <tr>\n",
       "      <th>2</th>\n",
       "      <td>3</td>\n",
       "      <td>Pedro</td>\n",
       "      <td>28</td>\n",
       "      <td>M</td>\n",
       "      <td>Física</td>\n",
       "      <td>5</td>\n",
       "    </tr>\n",
       "  </tbody>\n",
       "</table>\n",
       "</div>"
      ],
      "text/plain": [
       "   Id_alumno Nombre  Edad Sexo   Asignatura  Calificación\n",
       "0          1   Juan    25    M  Matemáticas             8\n",
       "0          1   Juan    25    M       Física             7\n",
       "1          2  Maria    30    F  Matemáticas             9\n",
       "2          3  Pedro    28    M       Física             5"
      ]
     },
     "execution_count": 15,
     "metadata": {},
     "output_type": "execute_result"
    }
   ],
   "source": [
    "dfR.join(dfS.set_index('Id_alumno'), on='Id_alumno', how='inner')"
   ]
  },
  {
   "cell_type": "markdown",
   "metadata": {},
   "source": [
    "En este último código, hemos visto la opción `how='inner'` (también disponible en la función `join`), que indica que se tomarán los registros que tienen el mismo `Id_alumno` en ambas tablas. Existen otras opciones, como `how='left'` para tomar todos los registros de la tabla izquierda y los registros que tienen el mismo `Id_alumno` en la tabla derecha, y `how='right'` para hacer lo contrario. Para ejemplificar esto, observemos los siguientes resultados:"
   ]
  },
  {
   "cell_type": "code",
   "execution_count": 16,
   "metadata": {},
   "outputs": [
    {
     "data": {
      "text/html": [
       "<div>\n",
       "<style scoped>\n",
       "    .dataframe tbody tr th:only-of-type {\n",
       "        vertical-align: middle;\n",
       "    }\n",
       "\n",
       "    .dataframe tbody tr th {\n",
       "        vertical-align: top;\n",
       "    }\n",
       "\n",
       "    .dataframe thead th {\n",
       "        text-align: right;\n",
       "    }\n",
       "</style>\n",
       "<table border=\"1\" class=\"dataframe\">\n",
       "  <thead>\n",
       "    <tr style=\"text-align: right;\">\n",
       "      <th></th>\n",
       "      <th>Id_alumno</th>\n",
       "      <th>Nombre</th>\n",
       "      <th>Edad</th>\n",
       "      <th>Sexo</th>\n",
       "      <th>Asignatura</th>\n",
       "      <th>Calificación</th>\n",
       "    </tr>\n",
       "  </thead>\n",
       "  <tbody>\n",
       "    <tr>\n",
       "      <th>0</th>\n",
       "      <td>1</td>\n",
       "      <td>Juan</td>\n",
       "      <td>25</td>\n",
       "      <td>M</td>\n",
       "      <td>Matemáticas</td>\n",
       "      <td>8.0</td>\n",
       "    </tr>\n",
       "    <tr>\n",
       "      <th>1</th>\n",
       "      <td>1</td>\n",
       "      <td>Juan</td>\n",
       "      <td>25</td>\n",
       "      <td>M</td>\n",
       "      <td>Física</td>\n",
       "      <td>7.0</td>\n",
       "    </tr>\n",
       "    <tr>\n",
       "      <th>2</th>\n",
       "      <td>2</td>\n",
       "      <td>Maria</td>\n",
       "      <td>30</td>\n",
       "      <td>F</td>\n",
       "      <td>Matemáticas</td>\n",
       "      <td>9.0</td>\n",
       "    </tr>\n",
       "    <tr>\n",
       "      <th>3</th>\n",
       "      <td>3</td>\n",
       "      <td>Pedro</td>\n",
       "      <td>28</td>\n",
       "      <td>M</td>\n",
       "      <td>Física</td>\n",
       "      <td>5.0</td>\n",
       "    </tr>\n",
       "    <tr>\n",
       "      <th>4</th>\n",
       "      <td>4</td>\n",
       "      <td>Ana</td>\n",
       "      <td>22</td>\n",
       "      <td>F</td>\n",
       "      <td>NaN</td>\n",
       "      <td>NaN</td>\n",
       "    </tr>\n",
       "  </tbody>\n",
       "</table>\n",
       "</div>"
      ],
      "text/plain": [
       "   Id_alumno Nombre  Edad Sexo   Asignatura  Calificación\n",
       "0          1   Juan    25    M  Matemáticas           8.0\n",
       "1          1   Juan    25    M       Física           7.0\n",
       "2          2  Maria    30    F  Matemáticas           9.0\n",
       "3          3  Pedro    28    M       Física           5.0\n",
       "4          4    Ana    22    F          NaN           NaN"
      ]
     },
     "execution_count": 16,
     "metadata": {},
     "output_type": "execute_result"
    }
   ],
   "source": [
    "pd.merge(dfR, dfS, on='Id_alumno', how='left')"
   ]
  },
  {
   "cell_type": "code",
   "execution_count": 17,
   "metadata": {},
   "outputs": [
    {
     "data": {
      "text/html": [
       "<div>\n",
       "<style scoped>\n",
       "    .dataframe tbody tr th:only-of-type {\n",
       "        vertical-align: middle;\n",
       "    }\n",
       "\n",
       "    .dataframe tbody tr th {\n",
       "        vertical-align: top;\n",
       "    }\n",
       "\n",
       "    .dataframe thead th {\n",
       "        text-align: right;\n",
       "    }\n",
       "</style>\n",
       "<table border=\"1\" class=\"dataframe\">\n",
       "  <thead>\n",
       "    <tr style=\"text-align: right;\">\n",
       "      <th></th>\n",
       "      <th>Id_alumno</th>\n",
       "      <th>Nombre</th>\n",
       "      <th>Edad</th>\n",
       "      <th>Sexo</th>\n",
       "      <th>Asignatura</th>\n",
       "      <th>Calificación</th>\n",
       "    </tr>\n",
       "  </thead>\n",
       "  <tbody>\n",
       "    <tr>\n",
       "      <th>0</th>\n",
       "      <td>1</td>\n",
       "      <td>Juan</td>\n",
       "      <td>25.0</td>\n",
       "      <td>M</td>\n",
       "      <td>Matemáticas</td>\n",
       "      <td>8</td>\n",
       "    </tr>\n",
       "    <tr>\n",
       "      <th>1</th>\n",
       "      <td>2</td>\n",
       "      <td>Maria</td>\n",
       "      <td>30.0</td>\n",
       "      <td>F</td>\n",
       "      <td>Matemáticas</td>\n",
       "      <td>9</td>\n",
       "    </tr>\n",
       "    <tr>\n",
       "      <th>2</th>\n",
       "      <td>1</td>\n",
       "      <td>Juan</td>\n",
       "      <td>25.0</td>\n",
       "      <td>M</td>\n",
       "      <td>Física</td>\n",
       "      <td>7</td>\n",
       "    </tr>\n",
       "    <tr>\n",
       "      <th>3</th>\n",
       "      <td>3</td>\n",
       "      <td>Pedro</td>\n",
       "      <td>28.0</td>\n",
       "      <td>M</td>\n",
       "      <td>Física</td>\n",
       "      <td>5</td>\n",
       "    </tr>\n",
       "    <tr>\n",
       "      <th>4</th>\n",
       "      <td>5</td>\n",
       "      <td>NaN</td>\n",
       "      <td>NaN</td>\n",
       "      <td>NaN</td>\n",
       "      <td>Matemática</td>\n",
       "      <td>6</td>\n",
       "    </tr>\n",
       "  </tbody>\n",
       "</table>\n",
       "</div>"
      ],
      "text/plain": [
       "   Id_alumno Nombre  Edad Sexo   Asignatura  Calificación\n",
       "0          1   Juan  25.0    M  Matemáticas             8\n",
       "1          2  Maria  30.0    F  Matemáticas             9\n",
       "2          1   Juan  25.0    M       Física             7\n",
       "3          3  Pedro  28.0    M       Física             5\n",
       "4          5    NaN   NaN  NaN   Matemática             6"
      ]
     },
     "execution_count": 17,
     "metadata": {},
     "output_type": "execute_result"
    }
   ],
   "source": [
    "pd.merge(dfR, dfS, on='Id_alumno', how='right')"
   ]
  },
  {
   "cell_type": "markdown",
   "metadata": {},
   "source": [
    "Se tiene otras dos opciones, `how='outer'` para tomar todos los registros de ambas tablas, y `how='inner'` (opción por defecto) para tomar los registros que tienen el mismo `Id_alumno` en ambas tablas."
   ]
  },
  {
   "cell_type": "code",
   "execution_count": 18,
   "metadata": {},
   "outputs": [
    {
     "data": {
      "text/html": [
       "<div>\n",
       "<style scoped>\n",
       "    .dataframe tbody tr th:only-of-type {\n",
       "        vertical-align: middle;\n",
       "    }\n",
       "\n",
       "    .dataframe tbody tr th {\n",
       "        vertical-align: top;\n",
       "    }\n",
       "\n",
       "    .dataframe thead th {\n",
       "        text-align: right;\n",
       "    }\n",
       "</style>\n",
       "<table border=\"1\" class=\"dataframe\">\n",
       "  <thead>\n",
       "    <tr style=\"text-align: right;\">\n",
       "      <th></th>\n",
       "      <th>Id_alumno</th>\n",
       "      <th>Nombre</th>\n",
       "      <th>Edad</th>\n",
       "      <th>Sexo</th>\n",
       "      <th>Asignatura</th>\n",
       "      <th>Calificación</th>\n",
       "    </tr>\n",
       "  </thead>\n",
       "  <tbody>\n",
       "    <tr>\n",
       "      <th>0</th>\n",
       "      <td>1</td>\n",
       "      <td>Juan</td>\n",
       "      <td>25.0</td>\n",
       "      <td>M</td>\n",
       "      <td>Matemáticas</td>\n",
       "      <td>8.0</td>\n",
       "    </tr>\n",
       "    <tr>\n",
       "      <th>1</th>\n",
       "      <td>1</td>\n",
       "      <td>Juan</td>\n",
       "      <td>25.0</td>\n",
       "      <td>M</td>\n",
       "      <td>Física</td>\n",
       "      <td>7.0</td>\n",
       "    </tr>\n",
       "    <tr>\n",
       "      <th>2</th>\n",
       "      <td>2</td>\n",
       "      <td>Maria</td>\n",
       "      <td>30.0</td>\n",
       "      <td>F</td>\n",
       "      <td>Matemáticas</td>\n",
       "      <td>9.0</td>\n",
       "    </tr>\n",
       "    <tr>\n",
       "      <th>3</th>\n",
       "      <td>3</td>\n",
       "      <td>Pedro</td>\n",
       "      <td>28.0</td>\n",
       "      <td>M</td>\n",
       "      <td>Física</td>\n",
       "      <td>5.0</td>\n",
       "    </tr>\n",
       "    <tr>\n",
       "      <th>4</th>\n",
       "      <td>4</td>\n",
       "      <td>Ana</td>\n",
       "      <td>22.0</td>\n",
       "      <td>F</td>\n",
       "      <td>NaN</td>\n",
       "      <td>NaN</td>\n",
       "    </tr>\n",
       "    <tr>\n",
       "      <th>5</th>\n",
       "      <td>5</td>\n",
       "      <td>NaN</td>\n",
       "      <td>NaN</td>\n",
       "      <td>NaN</td>\n",
       "      <td>Matemática</td>\n",
       "      <td>6.0</td>\n",
       "    </tr>\n",
       "  </tbody>\n",
       "</table>\n",
       "</div>"
      ],
      "text/plain": [
       "   Id_alumno Nombre  Edad Sexo   Asignatura  Calificación\n",
       "0          1   Juan  25.0    M  Matemáticas           8.0\n",
       "1          1   Juan  25.0    M       Física           7.0\n",
       "2          2  Maria  30.0    F  Matemáticas           9.0\n",
       "3          3  Pedro  28.0    M       Física           5.0\n",
       "4          4    Ana  22.0    F          NaN           NaN\n",
       "5          5    NaN   NaN  NaN   Matemática           6.0"
      ]
     },
     "execution_count": 18,
     "metadata": {},
     "output_type": "execute_result"
    }
   ],
   "source": [
    "pd.merge(dfR, dfS, on='Id_alumno', how='outer')"
   ]
  },
  {
   "cell_type": "markdown",
   "metadata": {},
   "source": [
    "En el lenguaje [SQL](https://es.wikipedia.org/wiki/SQL), el operador reunión se representa con la cláusula `JOIN`. Por ejemplo, la reunión de las tablas de datos $R$ y $S$ con respecto al atributo `Id_alumno` se puede escribir como:\n",
    "```sql\n",
    "SELECT *\n",
    "FROM R\n",
    "JOIN S\n",
    "ON R.Id_alumno=S.Id_alumno;\n",
    "```"
   ]
  }
 ],
 "metadata": {
  "colab": {
   "collapsed_sections": [],
   "name": "Resumen01.ipynb",
   "provenance": []
  },
  "kernelspec": {
   "display_name": "Python 3",
   "language": "python",
   "name": "python3"
  },
  "language_info": {
   "codemirror_mode": {
    "name": "ipython",
    "version": 3
   },
   "file_extension": ".py",
   "mimetype": "text/x-python",
   "name": "python",
   "nbconvert_exporter": "python",
   "pygments_lexer": "ipython3",
   "version": "3.11.3"
  }
 },
 "nbformat": 4,
 "nbformat_minor": 1
}
